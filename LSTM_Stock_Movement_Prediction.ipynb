{
  "nbformat": 4,
  "nbformat_minor": 0,
  "metadata": {
    "kernelspec": {
      "display_name": "Python 3",
      "language": "python",
      "name": "python3"
    },
    "language_info": {
      "codemirror_mode": {
        "name": "ipython",
        "version": 3
      },
      "file_extension": ".py",
      "mimetype": "text/x-python",
      "name": "python",
      "nbconvert_exporter": "python",
      "pygments_lexer": "ipython3",
      "version": "3.6.8"
    },
    "colab": {
      "name": "LSTM-Stock-Classification_0702.ipynb",
      "provenance": [],
      "collapsed_sections": []
    }
  },
  "cells": [
    {
      "cell_type": "markdown",
      "metadata": {
        "id": "6aG9OEH1iKfp",
        "colab_type": "text"
      },
      "source": [
        "# Use LSTM to predict the movement of a stock price"
      ]
    },
    {
      "cell_type": "code",
      "metadata": {
        "id": "OwfwIpmLEme7",
        "colab_type": "code",
        "colab": {}
      },
      "source": [
        "import numpy as np\n",
        "import pandas_datareader.data as web\n",
        "import matplotlib.pyplot as plt\n",
        "\n",
        "import pandas as pd\n",
        "from datetime import datetime\n",
        "from sklearn.linear_model import LogisticRegression\n",
        "\n",
        "import sklearn\n",
        "import pandas_datareader.data as web\n",
        "from sklearn.svm import SVC\n",
        "from sklearn.metrics import confusion_matrix"
      ],
      "execution_count": 35,
      "outputs": []
    },
    {
      "cell_type": "code",
      "metadata": {
        "id": "1Em-AUrEEmfA",
        "colab_type": "code",
        "colab": {}
      },
      "source": [
        "stocks = ['BABA']\n",
        "\n",
        "start_date='10/15/2014'\n",
        "end_date='01/30/2020'\n",
        "\n",
        "data = web.DataReader(stocks, data_source='yahoo', start=start_date, end=end_date)['Adj Close']\n",
        "\n",
        "## daily return by percentage\n",
        "daily_returns = (data/data.shift(1))-1"
      ],
      "execution_count": 36,
      "outputs": []
    },
    {
      "cell_type": "code",
      "metadata": {
        "id": "PQmIG1lPEmfE",
        "colab_type": "code",
        "colab": {
          "base_uri": "https://localhost:8080/",
          "height": 235
        },
        "outputId": "270c5ee8-6ee5-4c21-f569-cfe691c9adc4"
      },
      "source": [
        "data.head()"
      ],
      "execution_count": 37,
      "outputs": [
        {
          "output_type": "execute_result",
          "data": {
            "text/html": [
              "<div>\n",
              "<style scoped>\n",
              "    .dataframe tbody tr th:only-of-type {\n",
              "        vertical-align: middle;\n",
              "    }\n",
              "\n",
              "    .dataframe tbody tr th {\n",
              "        vertical-align: top;\n",
              "    }\n",
              "\n",
              "    .dataframe thead th {\n",
              "        text-align: right;\n",
              "    }\n",
              "</style>\n",
              "<table border=\"1\" class=\"dataframe\">\n",
              "  <thead>\n",
              "    <tr style=\"text-align: right;\">\n",
              "      <th>Symbols</th>\n",
              "      <th>BABA</th>\n",
              "    </tr>\n",
              "    <tr>\n",
              "      <th>Date</th>\n",
              "      <th></th>\n",
              "    </tr>\n",
              "  </thead>\n",
              "  <tbody>\n",
              "    <tr>\n",
              "      <th>2014-10-15</th>\n",
              "      <td>85.599998</td>\n",
              "    </tr>\n",
              "    <tr>\n",
              "      <th>2014-10-16</th>\n",
              "      <td>88.849998</td>\n",
              "    </tr>\n",
              "    <tr>\n",
              "      <th>2014-10-17</th>\n",
              "      <td>87.910004</td>\n",
              "    </tr>\n",
              "    <tr>\n",
              "      <th>2014-10-20</th>\n",
              "      <td>88.260002</td>\n",
              "    </tr>\n",
              "    <tr>\n",
              "      <th>2014-10-21</th>\n",
              "      <td>90.900002</td>\n",
              "    </tr>\n",
              "  </tbody>\n",
              "</table>\n",
              "</div>"
            ],
            "text/plain": [
              "Symbols          BABA\n",
              "Date                 \n",
              "2014-10-15  85.599998\n",
              "2014-10-16  88.849998\n",
              "2014-10-17  87.910004\n",
              "2014-10-20  88.260002\n",
              "2014-10-21  90.900002"
            ]
          },
          "metadata": {
            "tags": []
          },
          "execution_count": 37
        }
      ]
    },
    {
      "cell_type": "markdown",
      "metadata": {
        "id": "oIouV407OH4t",
        "colab_type": "text"
      },
      "source": [
        "Daily return as time sequence"
      ]
    },
    {
      "cell_type": "code",
      "metadata": {
        "id": "mM1ryo12EmfH",
        "colab_type": "code",
        "colab": {
          "base_uri": "https://localhost:8080/",
          "height": 269
        },
        "outputId": "32938d19-cc9a-463f-91a7-3eec0ebe140a"
      },
      "source": [
        "daily_returns.plot();\n",
        "plt.ylabel('Daily Returns');\n",
        "plt.xlabel('Time');"
      ],
      "execution_count": 38,
      "outputs": [
        {
          "output_type": "display_data",
          "data": {
            "image/png": "[encoded data removed]",
            "text/plain": [
              "<Figure size 432x288 with 1 Axes>"
            ]
          },
          "metadata": {
            "tags": [],
            "needs_background": "light"
          }
        }
      ]
    },
    {
      "cell_type": "code",
      "metadata": {
        "id": "uIz_ozJPEmfK",
        "colab_type": "code",
        "colab": {
          "base_uri": "https://localhost:8080/",
          "height": 269
        },
        "outputId": "add224be-5378-41c4-bcde-c8aeb6435616"
      },
      "source": [
        "data.plot();\n",
        "plt.ylabel('Stock Price');\n",
        "plt.xlabel('Time');"
      ],
      "execution_count": 39,
      "outputs": [
        {
          "output_type": "display_data",
          "data": {
            "image/png": "[encoded data removed]",
            "text/plain": [
              "<Figure size 432x288 with 1 Axes>"
            ]
          },
          "metadata": {
            "tags": [],
            "needs_background": "light"
          }
        }
      ]
    },
    {
      "cell_type": "markdown",
      "metadata": {
        "id": "kjvqx48COPA1",
        "colab_type": "text"
      },
      "source": [
        "#### Create dataset\n",
        "lags defines the size of the sliding window "
      ]
    },
    {
      "cell_type": "code",
      "metadata": {
        "id": "UzzQoaI5EmfN",
        "colab_type": "code",
        "colab": {}
      },
      "source": [
        "def create_dataset(stock_symbol, start_date, end_date, lags=5):\n",
        "\n",
        "  ## downlown stock price data from Yahoo finance\n",
        "\tdf = web.DataReader(stock_symbol, \"yahoo\", start_date, end_date)\n",
        "\n",
        "  ## create a new dataframe\n",
        "\t## we want to use additional features: lagged returns...today's returns, yesterday's returns, \n",
        "\t## and the day before yesterday ...\n",
        "\ttslag = pd.DataFrame(index=df.index)\n",
        "\ttslag[\"Today\"] = df[\"Adj Close\"]\n",
        "\ttslag[\"Volume\"] = df[\"Volume\"]\n",
        "\n",
        "  # Create the shifted lag series of prior trading period close values\n",
        "\tfor i in range(0, lags):\n",
        "\t\ttslag[\"Lag%s\" % str(i+1)] = df[\"Adj Close\"].shift(i+1)\n",
        "\n",
        "  #create the returns DataFrame\n",
        "\tdfret = pd.DataFrame(index=tslag.index)\n",
        "\tdfret[\"Volume\"] = tslag[\"Volume\"]\n",
        "\tdfret[\"Today\"] = tslag[\"Today\"].pct_change()*100.0\n",
        "\n",
        "  #create the lagged percentage returns columns\n",
        "\tfor i in range(0, lags):\n",
        "\t\tdfret[\"Lag%s\" % str(i+1)] = tslag[\"Lag%s\" % str(i+1)].pct_change()*100.0\n",
        "\n",
        "  # \"Direction\" column (+1 or -1) indicating an up/down day\n",
        "\tdfret[\"Direction\"] = np.sign(dfret[\"Today\"])\n",
        "\t\n",
        "\t# because of the shifts there are NaN values ... we want to get rid of those NaNs\n",
        "\tdfret.drop(dfret.index[:lags+1], inplace=True)\n",
        "\n",
        "\treturn dfret"
      ],
      "execution_count": 40,
      "outputs": []
    },
    {
      "cell_type": "code",
      "metadata": {
        "id": "4w45XCLHEmfQ",
        "colab_type": "code",
        "colab": {}
      },
      "source": [
        ""
      ],
      "execution_count": 40,
      "outputs": []
    },
    {
      "cell_type": "code",
      "metadata": {
        "id": "dSSt6JhQEmfS",
        "colab_type": "code",
        "colab": {}
      },
      "source": [
        "# stocks = ['BABA']\n",
        "start_date='10/30/2014'\n",
        "end_date='01/30/2020'\n",
        "data = create_dataset(\"BABA\", datetime(2014,10,30), datetime(2020,1,30), lags=10)"
      ],
      "execution_count": 41,
      "outputs": []
    },
    {
      "cell_type": "code",
      "metadata": {
        "id": "1WwdMA49EmfV",
        "colab_type": "code",
        "colab": {
          "base_uri": "https://localhost:8080/",
          "height": 235
        },
        "outputId": "12eafa69-83b9-4b46-b1f5-0e2b2617255c"
      },
      "source": [
        "data.head()"
      ],
      "execution_count": 42,
      "outputs": [
        {
          "output_type": "execute_result",
          "data": {
            "text/html": [
              "<div>\n",
              "<style scoped>\n",
              "    .dataframe tbody tr th:only-of-type {\n",
              "        vertical-align: middle;\n",
              "    }\n",
              "\n",
              "    .dataframe tbody tr th {\n",
              "        vertical-align: top;\n",
              "    }\n",
              "\n",
              "    .dataframe thead th {\n",
              "        text-align: right;\n",
              "    }\n",
              "</style>\n",
              "<table border=\"1\" class=\"dataframe\">\n",
              "  <thead>\n",
              "    <tr style=\"text-align: right;\">\n",
              "      <th></th>\n",
              "      <th>Volume</th>\n",
              "      <th>Today</th>\n",
              "      <th>Lag1</th>\n",
              "      <th>Lag2</th>\n",
              "      <th>Lag3</th>\n",
              "      <th>Lag4</th>\n",
              "      <th>Lag5</th>\n",
              "      <th>Lag6</th>\n",
              "      <th>Lag7</th>\n",
              "      <th>Lag8</th>\n",
              "      <th>Lag9</th>\n",
              "      <th>Lag10</th>\n",
              "      <th>Direction</th>\n",
              "    </tr>\n",
              "    <tr>\n",
              "      <th>Date</th>\n",
              "      <th></th>\n",
              "      <th></th>\n",
              "      <th></th>\n",
              "      <th></th>\n",
              "      <th></th>\n",
              "      <th></th>\n",
              "      <th></th>\n",
              "      <th></th>\n",
              "      <th></th>\n",
              "      <th></th>\n",
              "      <th></th>\n",
              "      <th></th>\n",
              "      <th></th>\n",
              "    </tr>\n",
              "  </thead>\n",
              "  <tbody>\n",
              "    <tr>\n",
              "      <th>2014-11-14</th>\n",
              "      <td>29849000</td>\n",
              "      <td>0.226404</td>\n",
              "      <td>-2.842640</td>\n",
              "      <td>3.195387</td>\n",
              "      <td>-3.869073</td>\n",
              "      <td>4.006638</td>\n",
              "      <td>2.679930</td>\n",
              "      <td>2.668631</td>\n",
              "      <td>2.451210</td>\n",
              "      <td>4.194496</td>\n",
              "      <td>3.245441</td>\n",
              "      <td>-0.131677</td>\n",
              "      <td>1.0</td>\n",
              "    </tr>\n",
              "    <tr>\n",
              "      <th>2014-11-17</th>\n",
              "      <td>22573000</td>\n",
              "      <td>-0.738487</td>\n",
              "      <td>0.226404</td>\n",
              "      <td>-2.842640</td>\n",
              "      <td>3.195387</td>\n",
              "      <td>-3.869073</td>\n",
              "      <td>4.006638</td>\n",
              "      <td>2.679930</td>\n",
              "      <td>2.668631</td>\n",
              "      <td>2.451210</td>\n",
              "      <td>4.194496</td>\n",
              "      <td>3.245441</td>\n",
              "      <td>-1.0</td>\n",
              "    </tr>\n",
              "    <tr>\n",
              "      <th>2014-11-18</th>\n",
              "      <td>41098000</td>\n",
              "      <td>-3.010943</td>\n",
              "      <td>-0.738487</td>\n",
              "      <td>0.226404</td>\n",
              "      <td>-2.842640</td>\n",
              "      <td>3.195387</td>\n",
              "      <td>-3.869073</td>\n",
              "      <td>4.006638</td>\n",
              "      <td>2.679930</td>\n",
              "      <td>2.668631</td>\n",
              "      <td>2.451210</td>\n",
              "      <td>4.194496</td>\n",
              "      <td>-1.0</td>\n",
              "    </tr>\n",
              "    <tr>\n",
              "      <th>2014-11-19</th>\n",
              "      <td>46841000</td>\n",
              "      <td>-1.795865</td>\n",
              "      <td>-3.010943</td>\n",
              "      <td>-0.738487</td>\n",
              "      <td>0.226404</td>\n",
              "      <td>-2.842640</td>\n",
              "      <td>3.195387</td>\n",
              "      <td>-3.869073</td>\n",
              "      <td>4.006638</td>\n",
              "      <td>2.679930</td>\n",
              "      <td>2.668631</td>\n",
              "      <td>2.451210</td>\n",
              "      <td>-1.0</td>\n",
              "    </tr>\n",
              "    <tr>\n",
              "      <th>2014-11-20</th>\n",
              "      <td>36489000</td>\n",
              "      <td>0.918949</td>\n",
              "      <td>-1.795865</td>\n",
              "      <td>-3.010943</td>\n",
              "      <td>-0.738487</td>\n",
              "      <td>0.226404</td>\n",
              "      <td>-2.842640</td>\n",
              "      <td>3.195387</td>\n",
              "      <td>-3.869073</td>\n",
              "      <td>4.006638</td>\n",
              "      <td>2.679930</td>\n",
              "      <td>2.668631</td>\n",
              "      <td>1.0</td>\n",
              "    </tr>\n",
              "  </tbody>\n",
              "</table>\n",
              "</div>"
            ],
            "text/plain": [
              "              Volume     Today      Lag1  ...      Lag9     Lag10  Direction\n",
              "Date                                      ...                               \n",
              "2014-11-14  29849000  0.226404 -2.842640  ...  3.245441 -0.131677        1.0\n",
              "2014-11-17  22573000 -0.738487  0.226404  ...  4.194496  3.245441       -1.0\n",
              "2014-11-18  41098000 -3.010943 -0.738487  ...  2.451210  4.194496       -1.0\n",
              "2014-11-19  46841000 -1.795865 -3.010943  ...  2.668631  2.451210       -1.0\n",
              "2014-11-20  36489000  0.918949 -1.795865  ...  2.679930  2.668631        1.0\n",
              "\n",
              "[5 rows x 13 columns]"
            ]
          },
          "metadata": {
            "tags": []
          },
          "execution_count": 42
        }
      ]
    },
    {
      "cell_type": "code",
      "metadata": {
        "id": "otNsKo-YEmfX",
        "colab_type": "code",
        "colab": {
          "base_uri": "https://localhost:8080/",
          "height": 235
        },
        "outputId": "34435d24-0394-4b61-a9eb-c96b0f37be9b"
      },
      "source": [
        "data.tail()"
      ],
      "execution_count": 43,
      "outputs": [
        {
          "output_type": "execute_result",
          "data": {
            "text/html": [
              "<div>\n",
              "<style scoped>\n",
              "    .dataframe tbody tr th:only-of-type {\n",
              "        vertical-align: middle;\n",
              "    }\n",
              "\n",
              "    .dataframe tbody tr th {\n",
              "        vertical-align: top;\n",
              "    }\n",
              "\n",
              "    .dataframe thead th {\n",
              "        text-align: right;\n",
              "    }\n",
              "</style>\n",
              "<table border=\"1\" class=\"dataframe\">\n",
              "  <thead>\n",
              "    <tr style=\"text-align: right;\">\n",
              "      <th></th>\n",
              "      <th>Volume</th>\n",
              "      <th>Today</th>\n",
              "      <th>Lag1</th>\n",
              "      <th>Lag2</th>\n",
              "      <th>Lag3</th>\n",
              "      <th>Lag4</th>\n",
              "      <th>Lag5</th>\n",
              "      <th>Lag6</th>\n",
              "      <th>Lag7</th>\n",
              "      <th>Lag8</th>\n",
              "      <th>Lag9</th>\n",
              "      <th>Lag10</th>\n",
              "      <th>Direction</th>\n",
              "    </tr>\n",
              "    <tr>\n",
              "      <th>Date</th>\n",
              "      <th></th>\n",
              "      <th></th>\n",
              "      <th></th>\n",
              "      <th></th>\n",
              "      <th></th>\n",
              "      <th></th>\n",
              "      <th></th>\n",
              "      <th></th>\n",
              "      <th></th>\n",
              "      <th></th>\n",
              "      <th></th>\n",
              "      <th></th>\n",
              "      <th></th>\n",
              "    </tr>\n",
              "  </thead>\n",
              "  <tbody>\n",
              "    <tr>\n",
              "      <th>2020-01-24</th>\n",
              "      <td>18143900</td>\n",
              "      <td>-2.455166</td>\n",
              "      <td>-1.457027</td>\n",
              "      <td>0.049492</td>\n",
              "      <td>-2.273226</td>\n",
              "      <td>1.558449</td>\n",
              "      <td>-0.497643</td>\n",
              "      <td>-0.631378</td>\n",
              "      <td>-1.731166</td>\n",
              "      <td>2.971002</td>\n",
              "      <td>0.924341</td>\n",
              "      <td>1.733944</td>\n",
              "      <td>-1.0</td>\n",
              "    </tr>\n",
              "    <tr>\n",
              "      <th>2020-01-27</th>\n",
              "      <td>24574700</td>\n",
              "      <td>-3.873684</td>\n",
              "      <td>-2.455166</td>\n",
              "      <td>-1.457027</td>\n",
              "      <td>0.049492</td>\n",
              "      <td>-2.273226</td>\n",
              "      <td>1.558449</td>\n",
              "      <td>-0.497643</td>\n",
              "      <td>-0.631378</td>\n",
              "      <td>-1.731166</td>\n",
              "      <td>2.971002</td>\n",
              "      <td>0.924341</td>\n",
              "      <td>-1.0</td>\n",
              "    </tr>\n",
              "    <tr>\n",
              "      <th>2020-01-28</th>\n",
              "      <td>16196700</td>\n",
              "      <td>2.316637</td>\n",
              "      <td>-3.873684</td>\n",
              "      <td>-2.455166</td>\n",
              "      <td>-1.457027</td>\n",
              "      <td>0.049492</td>\n",
              "      <td>-2.273226</td>\n",
              "      <td>1.558449</td>\n",
              "      <td>-0.497643</td>\n",
              "      <td>-0.631378</td>\n",
              "      <td>-1.731166</td>\n",
              "      <td>2.971002</td>\n",
              "      <td>1.0</td>\n",
              "    </tr>\n",
              "    <tr>\n",
              "      <th>2020-01-29</th>\n",
              "      <td>12871900</td>\n",
              "      <td>0.851452</td>\n",
              "      <td>2.316637</td>\n",
              "      <td>-3.873684</td>\n",
              "      <td>-2.455166</td>\n",
              "      <td>-1.457027</td>\n",
              "      <td>0.049492</td>\n",
              "      <td>-2.273226</td>\n",
              "      <td>1.558449</td>\n",
              "      <td>-0.497643</td>\n",
              "      <td>-0.631378</td>\n",
              "      <td>-1.731166</td>\n",
              "      <td>1.0</td>\n",
              "    </tr>\n",
              "    <tr>\n",
              "      <th>2020-01-30</th>\n",
              "      <td>14376000</td>\n",
              "      <td>-1.622490</td>\n",
              "      <td>0.851452</td>\n",
              "      <td>2.316637</td>\n",
              "      <td>-3.873684</td>\n",
              "      <td>-2.455166</td>\n",
              "      <td>-1.457027</td>\n",
              "      <td>0.049492</td>\n",
              "      <td>-2.273226</td>\n",
              "      <td>1.558449</td>\n",
              "      <td>-0.497643</td>\n",
              "      <td>-0.631378</td>\n",
              "      <td>-1.0</td>\n",
              "    </tr>\n",
              "  </tbody>\n",
              "</table>\n",
              "</div>"
            ],
            "text/plain": [
              "              Volume     Today      Lag1  ...      Lag9     Lag10  Direction\n",
              "Date                                      ...                               \n",
              "2020-01-24  18143900 -2.455166 -1.457027  ...  0.924341  1.733944       -1.0\n",
              "2020-01-27  24574700 -3.873684 -2.455166  ...  2.971002  0.924341       -1.0\n",
              "2020-01-28  16196700  2.316637 -3.873684  ... -1.731166  2.971002        1.0\n",
              "2020-01-29  12871900  0.851452  2.316637  ... -0.631378 -1.731166        1.0\n",
              "2020-01-30  14376000 -1.622490  0.851452  ... -0.497643 -0.631378       -1.0\n",
              "\n",
              "[5 rows x 13 columns]"
            ]
          },
          "metadata": {
            "tags": []
          },
          "execution_count": 43
        }
      ]
    },
    {
      "cell_type": "code",
      "metadata": {
        "id": "EUVWDr5ScNGt",
        "colab_type": "code",
        "colab": {
          "base_uri": "https://localhost:8080/",
          "height": 34
        },
        "outputId": "dd8ad4d2-5e5b-4654-c745-72602d67174f"
      },
      "source": [
        "data.shape"
      ],
      "execution_count": 44,
      "outputs": [
        {
          "output_type": "execute_result",
          "data": {
            "text/plain": [
              "(1310, 13)"
            ]
          },
          "metadata": {
            "tags": []
          },
          "execution_count": 44
        }
      ]
    },
    {
      "cell_type": "code",
      "metadata": {
        "id": "zdTdzvKgEmff",
        "colab_type": "code",
        "colab": {}
      },
      "source": [
        "# Use the prior 10 days of returns as predictor \n",
        "# Label: price movement of the stock\n",
        "X = data[[\"Lag1\",\"Lag2\",\"Lag3\",\"Lag4\",\"Lag5\", \"Lag6\", \"Lag7\", \"Lag8\", \"Lag9\", \"Lag10\"]]\n",
        "y = data[\"Direction\"]"
      ],
      "execution_count": 45,
      "outputs": []
    },
    {
      "cell_type": "code",
      "metadata": {
        "id": "1brBCAQdEmfi",
        "colab_type": "code",
        "colab": {}
      },
      "source": [
        "# The test data is split into two parts: Before and after 1st Jan 2005.\n",
        "start_test = datetime(2019,12,1)"
      ],
      "execution_count": 46,
      "outputs": []
    },
    {
      "cell_type": "code",
      "metadata": {
        "id": "uVvOMZAIEmfl",
        "colab_type": "code",
        "colab": {}
      },
      "source": [
        "# Create training and test sets\n",
        "X_train_full = np.array(X[X.index < start_test])\n",
        "X_test = np.array(X[X.index >= start_test])\n",
        "y_train_full = y[y.index < start_test]\n",
        "y_test = y[y.index >= start_test]"
      ],
      "execution_count": 47,
      "outputs": []
    },
    {
      "cell_type": "code",
      "metadata": {
        "id": "uZO1eyrjEmfn",
        "colab_type": "code",
        "colab": {}
      },
      "source": [
        "y_train_full[y_train_full==-1]=0\n",
        "y_test[y_test==-1]=0"
      ],
      "execution_count": 48,
      "outputs": []
    },
    {
      "cell_type": "code",
      "metadata": {
        "id": "LN-PEP3oEmfp",
        "colab_type": "code",
        "colab": {}
      },
      "source": [
        "y_train_full=np.array(y_train_full)"
      ],
      "execution_count": 49,
      "outputs": []
    },
    {
      "cell_type": "code",
      "metadata": {
        "id": "cRrnN25oEmfr",
        "colab_type": "code",
        "colab": {}
      },
      "source": [
        "y_test=np.array(y_test)"
      ],
      "execution_count": 50,
      "outputs": []
    },
    {
      "cell_type": "code",
      "metadata": {
        "id": "hW4zuP2HEmfu",
        "colab_type": "code",
        "colab": {}
      },
      "source": [
        "X_train_full = X_train_full[:,:,np.newaxis]"
      ],
      "execution_count": 51,
      "outputs": []
    },
    {
      "cell_type": "code",
      "metadata": {
        "id": "4Ast1tL7Emfx",
        "colab_type": "code",
        "colab": {
          "base_uri": "https://localhost:8080/",
          "height": 34
        },
        "outputId": "c7f9a6d4-931f-4e32-828d-e40ddc017033"
      },
      "source": [
        "X_train_full.shape"
      ],
      "execution_count": 52,
      "outputs": [
        {
          "output_type": "execute_result",
          "data": {
            "text/plain": [
              "(1269, 10, 1)"
            ]
          },
          "metadata": {
            "tags": []
          },
          "execution_count": 52
        }
      ]
    },
    {
      "cell_type": "code",
      "metadata": {
        "id": "KLam92chEmf0",
        "colab_type": "code",
        "colab": {}
      },
      "source": [
        "y_train_full=np.array(y_train_full)"
      ],
      "execution_count": 53,
      "outputs": []
    },
    {
      "cell_type": "markdown",
      "metadata": {
        "id": "trUq09uqjwVI",
        "colab_type": "text"
      },
      "source": [
        "#### train and validation data"
      ]
    },
    {
      "cell_type": "code",
      "metadata": {
        "id": "wVVwrHJ5fhMb",
        "colab_type": "code",
        "colab": {}
      },
      "source": [
        "training_size = 1000\n",
        "X_train = X_train_full[:training_size]\n",
        "X_valid = X_train_full[training_size:]\n",
        "y_train = y_train_full[:training_size]\n",
        "y_valid = y_train_full[training_size:]"
      ],
      "execution_count": 54,
      "outputs": []
    },
    {
      "cell_type": "code",
      "metadata": {
        "id": "UMlVw9Lhfv8g",
        "colab_type": "code",
        "colab": {
          "base_uri": "https://localhost:8080/",
          "height": 34
        },
        "outputId": "be6ab1b9-2237-4091-a215-3f4b6922e80a"
      },
      "source": [
        "X_train.shape, X_valid.shape, y_train.shape, y_valid.shape"
      ],
      "execution_count": 55,
      "outputs": [
        {
          "output_type": "execute_result",
          "data": {
            "text/plain": [
              "((1000, 10, 1), (269, 10, 1), (1000,), (269,))"
            ]
          },
          "metadata": {
            "tags": []
          },
          "execution_count": 55
        }
      ]
    },
    {
      "cell_type": "markdown",
      "metadata": {
        "id": "NEO3Jd4kj4Qm",
        "colab_type": "text"
      },
      "source": [
        "## Construct a LSTM model"
      ]
    },
    {
      "cell_type": "code",
      "metadata": {
        "id": "NRbD7Y_0Emf1",
        "colab_type": "code",
        "colab": {}
      },
      "source": [
        "import tensorflow as tf\n",
        "from keras import regularizers"
      ],
      "execution_count": 56,
      "outputs": []
    },
    {
      "cell_type": "code",
      "metadata": {
        "scrolled": true,
        "id": "f_dgOWyYEmf4",
        "colab_type": "code",
        "colab": {
          "base_uri": "https://localhost:8080/",
          "height": 425
        },
        "outputId": "dde6e93b-26b4-4bdc-cc77-0fdaccdd9e86"
      },
      "source": [
        "seq_len_LSTM=10\n",
        "model = tf.keras.Sequential()\n",
        "\n",
        "model.add(tf.keras.layers.LSTM(20, input_shape=(seq_len_LSTM, 1), return_sequences=True))\n",
        "model.add(tf.keras.layers.Dropout(0.5))\n",
        "model.add(tf.keras.layers.LSTM(10, return_sequences=True))\n",
        "model.add(tf.keras.layers.Dropout(0.5))\n",
        "# model.add(tf.keras.layers.LSTM(10, return_sequences=True))\n",
        "# model.add(tf.keras.layers.Dropout(0.5))\n",
        "model.add(tf.keras.layers.LSTM(10))\n",
        "model.add(tf.keras.layers.Dense(10, activation=tf.nn.relu))\n",
        "model.add(tf.keras.layers.Dense(5, activation=tf.nn.relu))\n",
        "model.add(tf.keras.layers.Dense(1, activation='sigmoid'))\n",
        "\n",
        "model.summary()"
      ],
      "execution_count": 57,
      "outputs": [
        {
          "output_type": "stream",
          "text": [
            "Model: \"sequential_1\"\n",
            "_________________________________________________________________\n",
            "Layer (type)                 Output Shape              Param #   \n",
            "=================================================================\n",
            "lstm_3 (LSTM)                (None, 10, 20)            1760      \n",
            "_________________________________________________________________\n",
            "dropout_2 (Dropout)          (None, 10, 20)            0         \n",
            "_________________________________________________________________\n",
            "lstm_4 (LSTM)                (None, 10, 10)            1240      \n",
            "_________________________________________________________________\n",
            "dropout_3 (Dropout)          (None, 10, 10)            0         \n",
            "_________________________________________________________________\n",
            "lstm_5 (LSTM)                (None, 10)                840       \n",
            "_________________________________________________________________\n",
            "dense_3 (Dense)              (None, 10)                110       \n",
            "_________________________________________________________________\n",
            "dense_4 (Dense)              (None, 5)                 55        \n",
            "_________________________________________________________________\n",
            "dense_5 (Dense)              (None, 1)                 6         \n",
            "=================================================================\n",
            "Total params: 4,011\n",
            "Trainable params: 4,011\n",
            "Non-trainable params: 0\n",
            "_________________________________________________________________\n"
          ],
          "name": "stdout"
        }
      ]
    },
    {
      "cell_type": "code",
      "metadata": {
        "id": "nxH6bshPEmf6",
        "colab_type": "code",
        "colab": {}
      },
      "source": [
        "model.compile(optimizer='adam',\n",
        "              loss='binary_crossentropy',\n",
        "              metrics=['accuracy'])"
      ],
      "execution_count": 58,
      "outputs": []
    },
    {
      "cell_type": "code",
      "metadata": {
        "id": "huBBmoPyEmf8",
        "colab_type": "code",
        "colab": {
          "base_uri": "https://localhost:8080/",
          "height": 1717
        },
        "outputId": "8134c6f6-498b-4efc-c8d0-04aca6ec02c1"
      },
      "source": [
        "history = model.fit(X_train, y_train,\n",
        "                    validation_data = (X_valid, y_valid), shuffle = False, ## time-series validation should not be shuffled\n",
        "                    epochs=50)"
      ],
      "execution_count": 59,
      "outputs": [
        {
          "output_type": "stream",
          "text": [
            "Epoch 1/50\n",
            "32/32 [==============================] - 2s 49ms/step - loss: 0.6936 - accuracy: 0.4800 - val_loss: 0.6938 - val_accuracy: 0.4424\n",
            "Epoch 2/50\n",
            "32/32 [==============================] - 0s 16ms/step - loss: 0.6930 - accuracy: 0.5110 - val_loss: 0.6935 - val_accuracy: 0.4610\n",
            "Epoch 3/50\n",
            "32/32 [==============================] - 1s 17ms/step - loss: 0.6933 - accuracy: 0.5010 - val_loss: 0.6932 - val_accuracy: 0.4572\n",
            "Epoch 4/50\n",
            "32/32 [==============================] - 1s 16ms/step - loss: 0.6931 - accuracy: 0.5100 - val_loss: 0.6932 - val_accuracy: 0.4498\n",
            "Epoch 5/50\n",
            "32/32 [==============================] - 1s 16ms/step - loss: 0.6927 - accuracy: 0.5000 - val_loss: 0.6939 - val_accuracy: 0.5019\n",
            "Epoch 6/50\n",
            "32/32 [==============================] - 1s 16ms/step - loss: 0.6932 - accuracy: 0.4820 - val_loss: 0.6940 - val_accuracy: 0.4610\n",
            "Epoch 7/50\n",
            "32/32 [==============================] - 1s 16ms/step - loss: 0.6928 - accuracy: 0.4870 - val_loss: 0.6947 - val_accuracy: 0.4498\n",
            "Epoch 8/50\n",
            "32/32 [==============================] - 1s 16ms/step - loss: 0.6932 - accuracy: 0.4900 - val_loss: 0.6945 - val_accuracy: 0.4387\n",
            "Epoch 9/50\n",
            "32/32 [==============================] - 1s 17ms/step - loss: 0.6923 - accuracy: 0.5070 - val_loss: 0.6948 - val_accuracy: 0.4498\n",
            "Epoch 10/50\n",
            "32/32 [==============================] - 1s 16ms/step - loss: 0.6921 - accuracy: 0.4900 - val_loss: 0.6952 - val_accuracy: 0.4387\n",
            "Epoch 11/50\n",
            "32/32 [==============================] - 1s 17ms/step - loss: 0.6926 - accuracy: 0.5020 - val_loss: 0.6950 - val_accuracy: 0.4424\n",
            "Epoch 12/50\n",
            "32/32 [==============================] - 1s 16ms/step - loss: 0.6920 - accuracy: 0.5090 - val_loss: 0.6955 - val_accuracy: 0.4349\n",
            "Epoch 13/50\n",
            "32/32 [==============================] - 1s 17ms/step - loss: 0.6923 - accuracy: 0.5090 - val_loss: 0.6960 - val_accuracy: 0.4349\n",
            "Epoch 14/50\n",
            "32/32 [==============================] - 1s 16ms/step - loss: 0.6918 - accuracy: 0.5090 - val_loss: 0.6965 - val_accuracy: 0.4387\n",
            "Epoch 15/50\n",
            "32/32 [==============================] - 1s 18ms/step - loss: 0.6912 - accuracy: 0.5170 - val_loss: 0.6980 - val_accuracy: 0.4424\n",
            "Epoch 16/50\n",
            "32/32 [==============================] - 1s 17ms/step - loss: 0.6929 - accuracy: 0.5010 - val_loss: 0.6956 - val_accuracy: 0.4349\n",
            "Epoch 17/50\n",
            "32/32 [==============================] - 1s 17ms/step - loss: 0.6914 - accuracy: 0.5160 - val_loss: 0.6966 - val_accuracy: 0.4461\n",
            "Epoch 18/50\n",
            "32/32 [==============================] - 1s 18ms/step - loss: 0.6921 - accuracy: 0.5040 - val_loss: 0.6960 - val_accuracy: 0.4349\n",
            "Epoch 19/50\n",
            "32/32 [==============================] - 1s 17ms/step - loss: 0.6913 - accuracy: 0.5130 - val_loss: 0.6972 - val_accuracy: 0.4387\n",
            "Epoch 20/50\n",
            "32/32 [==============================] - 1s 17ms/step - loss: 0.6908 - accuracy: 0.5130 - val_loss: 0.6973 - val_accuracy: 0.4907\n",
            "Epoch 21/50\n",
            "32/32 [==============================] - 1s 17ms/step - loss: 0.6914 - accuracy: 0.4900 - val_loss: 0.6978 - val_accuracy: 0.5130\n",
            "Epoch 22/50\n",
            "32/32 [==============================] - 1s 16ms/step - loss: 0.6913 - accuracy: 0.4860 - val_loss: 0.6983 - val_accuracy: 0.4424\n",
            "Epoch 23/50\n",
            "32/32 [==============================] - 1s 16ms/step - loss: 0.6920 - accuracy: 0.5050 - val_loss: 0.6964 - val_accuracy: 0.4387\n",
            "Epoch 24/50\n",
            "32/32 [==============================] - 1s 17ms/step - loss: 0.6910 - accuracy: 0.5150 - val_loss: 0.6984 - val_accuracy: 0.4461\n",
            "Epoch 25/50\n",
            "32/32 [==============================] - 1s 16ms/step - loss: 0.6912 - accuracy: 0.5130 - val_loss: 0.6974 - val_accuracy: 0.4387\n",
            "Epoch 26/50\n",
            "32/32 [==============================] - 1s 17ms/step - loss: 0.6903 - accuracy: 0.5070 - val_loss: 0.6981 - val_accuracy: 0.4461\n",
            "Epoch 27/50\n",
            "32/32 [==============================] - 1s 16ms/step - loss: 0.6907 - accuracy: 0.5130 - val_loss: 0.6985 - val_accuracy: 0.4424\n",
            "Epoch 28/50\n",
            "32/32 [==============================] - 1s 18ms/step - loss: 0.6913 - accuracy: 0.5030 - val_loss: 0.6971 - val_accuracy: 0.4424\n",
            "Epoch 29/50\n",
            "32/32 [==============================] - 1s 16ms/step - loss: 0.6911 - accuracy: 0.5210 - val_loss: 0.6992 - val_accuracy: 0.4424\n",
            "Epoch 30/50\n",
            "32/32 [==============================] - 1s 17ms/step - loss: 0.6921 - accuracy: 0.5080 - val_loss: 0.6981 - val_accuracy: 0.4349\n",
            "Epoch 31/50\n",
            "32/32 [==============================] - 1s 17ms/step - loss: 0.6913 - accuracy: 0.5110 - val_loss: 0.6985 - val_accuracy: 0.4387\n",
            "Epoch 32/50\n",
            "32/32 [==============================] - 1s 17ms/step - loss: 0.6913 - accuracy: 0.5130 - val_loss: 0.6980 - val_accuracy: 0.4387\n",
            "Epoch 33/50\n",
            "32/32 [==============================] - 1s 17ms/step - loss: 0.6905 - accuracy: 0.5150 - val_loss: 0.6990 - val_accuracy: 0.4349\n",
            "Epoch 34/50\n",
            "32/32 [==============================] - 1s 16ms/step - loss: 0.6907 - accuracy: 0.5180 - val_loss: 0.6988 - val_accuracy: 0.4424\n",
            "Epoch 35/50\n",
            "32/32 [==============================] - 1s 17ms/step - loss: 0.6911 - accuracy: 0.5080 - val_loss: 0.6994 - val_accuracy: 0.4349\n",
            "Epoch 36/50\n",
            "32/32 [==============================] - 1s 18ms/step - loss: 0.6907 - accuracy: 0.5150 - val_loss: 0.6994 - val_accuracy: 0.4349\n",
            "Epoch 37/50\n",
            "32/32 [==============================] - 1s 17ms/step - loss: 0.6913 - accuracy: 0.5120 - val_loss: 0.6986 - val_accuracy: 0.4424\n",
            "Epoch 38/50\n",
            "32/32 [==============================] - 1s 17ms/step - loss: 0.6919 - accuracy: 0.5120 - val_loss: 0.6978 - val_accuracy: 0.4424\n",
            "Epoch 39/50\n",
            "32/32 [==============================] - 1s 16ms/step - loss: 0.6907 - accuracy: 0.5140 - val_loss: 0.6984 - val_accuracy: 0.4796\n",
            "Epoch 40/50\n",
            "32/32 [==============================] - 1s 17ms/step - loss: 0.6906 - accuracy: 0.5020 - val_loss: 0.6989 - val_accuracy: 0.4684\n",
            "Epoch 41/50\n",
            "32/32 [==============================] - 1s 16ms/step - loss: 0.6905 - accuracy: 0.4850 - val_loss: 0.6995 - val_accuracy: 0.4721\n",
            "Epoch 42/50\n",
            "32/32 [==============================] - 1s 16ms/step - loss: 0.6896 - accuracy: 0.5020 - val_loss: 0.6991 - val_accuracy: 0.4758\n",
            "Epoch 43/50\n",
            "32/32 [==============================] - 1s 17ms/step - loss: 0.6901 - accuracy: 0.5010 - val_loss: 0.6985 - val_accuracy: 0.4684\n",
            "Epoch 44/50\n",
            "32/32 [==============================] - 1s 17ms/step - loss: 0.6909 - accuracy: 0.5230 - val_loss: 0.7000 - val_accuracy: 0.4796\n",
            "Epoch 45/50\n",
            "32/32 [==============================] - 1s 16ms/step - loss: 0.6914 - accuracy: 0.5190 - val_loss: 0.6993 - val_accuracy: 0.4684\n",
            "Epoch 46/50\n",
            "32/32 [==============================] - 1s 17ms/step - loss: 0.6910 - accuracy: 0.5150 - val_loss: 0.6968 - val_accuracy: 0.4870\n",
            "Epoch 47/50\n",
            "32/32 [==============================] - 1s 17ms/step - loss: 0.6895 - accuracy: 0.5050 - val_loss: 0.6980 - val_accuracy: 0.5093\n",
            "Epoch 48/50\n",
            "32/32 [==============================] - 1s 17ms/step - loss: 0.6917 - accuracy: 0.5150 - val_loss: 0.6976 - val_accuracy: 0.5242\n",
            "Epoch 49/50\n",
            "32/32 [==============================] - 1s 17ms/step - loss: 0.6911 - accuracy: 0.5230 - val_loss: 0.6982 - val_accuracy: 0.4981\n",
            "Epoch 50/50\n",
            "32/32 [==============================] - 1s 17ms/step - loss: 0.6919 - accuracy: 0.5070 - val_loss: 0.6943 - val_accuracy: 0.5353\n"
          ],
          "name": "stdout"
        }
      ]
    },
    {
      "cell_type": "code",
      "metadata": {
        "id": "hKapUemNEmgA",
        "colab_type": "code",
        "colab": {}
      },
      "source": [
        "X_test = X_test[:,:,np.newaxis]"
      ],
      "execution_count": 60,
      "outputs": []
    },
    {
      "cell_type": "code",
      "metadata": {
        "scrolled": true,
        "id": "M8BdwWeZEmgC",
        "colab_type": "code",
        "colab": {
          "base_uri": "https://localhost:8080/",
          "height": 34
        },
        "outputId": "c12cf6d6-5ffb-4d98-dde1-aaebc6a195f7"
      },
      "source": [
        "X_test.shape"
      ],
      "execution_count": 61,
      "outputs": [
        {
          "output_type": "execute_result",
          "data": {
            "text/plain": [
              "(41, 10, 1)"
            ]
          },
          "metadata": {
            "tags": []
          },
          "execution_count": 61
        }
      ]
    },
    {
      "cell_type": "code",
      "metadata": {
        "id": "xotbBdQfEmgJ",
        "colab_type": "code",
        "colab": {
          "base_uri": "https://localhost:8080/",
          "height": 34
        },
        "outputId": "ef5928e1-d521-4e60-d36a-37d3ceab7a02"
      },
      "source": [
        "y_test.shape"
      ],
      "execution_count": 62,
      "outputs": [
        {
          "output_type": "execute_result",
          "data": {
            "text/plain": [
              "(41,)"
            ]
          },
          "metadata": {
            "tags": []
          },
          "execution_count": 62
        }
      ]
    },
    {
      "cell_type": "markdown",
      "metadata": {
        "id": "_b8d1tZCj_Sz",
        "colab_type": "text"
      },
      "source": [
        "## Prediction accuracy on unseen test data"
      ]
    },
    {
      "cell_type": "code",
      "metadata": {
        "id": "AveECO_LEmgO",
        "colab_type": "code",
        "colab": {
          "base_uri": "https://localhost:8080/",
          "height": 51
        },
        "outputId": "317139cf-f52b-4e48-823a-f41887a1c3cd"
      },
      "source": [
        "test_loss, test_acc = model.evaluate(X_test, y_test)\n",
        "print('Test accuracy:', test_acc)"
      ],
      "execution_count": 63,
      "outputs": [
        {
          "output_type": "stream",
          "text": [
            "2/2 [==============================] - 0s 3ms/step - loss: 0.6879 - accuracy: 0.5610\n",
            "Test accuracy: 0.5609756112098694\n"
          ],
          "name": "stdout"
        }
      ]
    }
  ]
}