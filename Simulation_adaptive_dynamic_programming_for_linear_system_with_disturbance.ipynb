{
  "nbformat": 4,
  "nbformat_minor": 0,
  "metadata": {
    "colab": {
      "name": "Simulation adaptive dynamic programming for linear system with disturbance.ipynb",
      "provenance": [],
      "collapsed_sections": []
    },
    "kernelspec": {
      "name": "python3",
      "display_name": "Python 3"
    }
  },
  "cells": [
    {
      "cell_type": "markdown",
      "metadata": {
        "id": "qgvb496RHnag"
      },
      "source": [
        "This example shows an application of adaptive dynamic programming (ADP) to a linear system with a constant disturbance term. By combining the output regulation technique, the ADP-based control algorithm can find the optimal control policy."
      ]
    },
    {
      "cell_type": "code",
      "metadata": {
        "id": "so_CnCIq_iEQ"
      },
      "source": [
        "import numpy as np\n",
        "import matplotlib.pyplot as plt\n",
        "from scipy.linalg import inv\n",
        "from numpy.linalg import matrix_rank\n",
        "import scipy.io\n",
        "from scipy import signal\n",
        "from cvxopt import matrix, solvers\n",
        "import pylab"
      ],
      "execution_count": 1,
      "outputs": []
    },
    {
      "cell_type": "markdown",
      "metadata": {
        "id": "DnXWLl1kBUwx"
      },
      "source": [
        "Build envrionment for simulation\n",
        "$$\n",
        "x_{k+1} = Ax_{k}+Bu_{k}+D\n",
        "$$\n",
        "\n",
        "Objective: find a feedback controller $$u_{k} = - Kx_{k}+U$$ to force the state $x$ converge to zero. \n",
        "\n",
        "\n",
        "Meanwhile, we have the following cost definition\n",
        "\\begin{equation*}\n",
        "\\begin{aligned}\n",
        "& \\underset{\\bar{u}}{\\text{minimize}}\n",
        "& & \\sum_{k=0}^{\\infty}x_{k}^{T}Qx_{k} + r  \\bar{u}_{k} ^{2}  \\\\\n",
        "& \\text{subject to}\n",
        "& & x_{k+1} = Ax_{k} + B\\bar{u}_{k}\n",
        "\\end{aligned}\n",
        "\\end{equation*}\n",
        "where $Q=Q^{T}\\geq 0$, $r>0$, $\\bar{u}_{k}=u_{k}-U^{*}$ and $U^{*}$ is an unknown vector. "
      ]
    },
    {
      "cell_type": "code",
      "metadata": {
        "id": "bfebKSd4AJ95"
      },
      "source": [
        "A = np.array([[0.5851, -0.0004], \n",
        "              [-35.7490, 0.2999]])\n",
        "B = np.array([[-0.0064,0.0001,0,-0.0001],\n",
        "              [-0.2248,-0.0060,0.0061,0.0020]])\n",
        "\n",
        "D = np.array([[0.0185], \n",
        "              [0]])\n",
        "\n",
        "def env(x, u):\n",
        "    x_ = A @ x + B @ u + D\n",
        "    return x_\n",
        "\n",
        "# In memory, we store state, action, reward, and successor state\n",
        "def store_transition(x, u, x_):\n",
        "    global memory_size, memory_counter, memory\n",
        "    transition = np.hstack((x.transpose(), u.transpose(), x_.transpose()))\n",
        "    # replace the old memory with new memory\n",
        "    index = memory_counter % memory_size\n",
        "    memory[index, :] = transition\n",
        "    memory_counter += 1"
      ],
      "execution_count": 2,
      "outputs": []
    },
    {
      "cell_type": "markdown",
      "metadata": {
        "id": "vobaDH1XB2DD"
      },
      "source": [
        "Initial control policy"
      ]
    },
    {
      "cell_type": "code",
      "metadata": {
        "id": "CmGJXSq7ANmP"
      },
      "source": [
        "# current best poles\n",
        "Poles = np.array([0.8, 0.88])\n",
        "K0 = signal.place_poles(A, B, Poles).gain_matrix\n"
      ],
      "execution_count": 3,
      "outputs": []
    },
    {
      "cell_type": "markdown",
      "metadata": {
        "id": "ZnoetMb5B74u"
      },
      "source": [
        "Model-based method to solve the control problem"
      ]
    },
    {
      "cell_type": "code",
      "metadata": {
        "colab": {
          "base_uri": "https://localhost:8080/"
        },
        "id": "CimzV3T5APWu",
        "outputId": "dbca5bb5-e067-4d03-8097-778d189a74a5"
      },
      "source": [
        "matrix_aug_01 = np.hstack((A-np.eye(2), B))\n",
        "matrix_aug_02 = np.hstack((np.eye(2), np.zeros((2,4))))\n",
        "matrix_aug = np.vstack((matrix_aug_01, matrix_aug_02))\n",
        "rank_reg = matrix_rank(matrix_aug)\n",
        "\n",
        "## cost (reward) design\n",
        "Q = np.array([[1e-5, 0],\n",
        "              [0, 1e5]])\n",
        "R = np.eye(4)\n",
        "Pstar = scipy.linalg.solve_discrete_are(A, B, Q, R)\n",
        "Kstar = np.matrix(scipy.linalg.inv(B.transpose()@Pstar@B+R)@(B.transpose()@Pstar@A))\n",
        "\n",
        "##########\n",
        "# model-based value iteration algorithm\n",
        "iter_max = 50\n",
        "P_traj = np.zeros((iter_max, 2, 2))\n",
        "APB_traj = np.zeros((iter_max, 2, 4))\n",
        "APD_traj = np.zeros((iter_max, 2, 1))\n",
        "for i in range(iter_max-1):\n",
        "    P = P_traj[i, :, : ]\n",
        "    APB_traj[i, :, : ] = A.transpose()@P@B\n",
        "    APD_traj[i, :, : ] = A.transpose()@P@D\n",
        "    P_traj[i+1, :, : ] = Q + A.transpose()@P@A - A.transpose()@P@B@scipy.linalg.inv(R+B.transpose()@P@B)@B.transpose()@P@A\n",
        "###########\n",
        "\n",
        "###########\n",
        "## model-based solution Hstar\n",
        "H11_star = B.transpose()@Pstar@B\n",
        "H12_star = B.transpose()@Pstar@D\n",
        "H13_star = B.transpose()@Pstar@A\n",
        "H21_star = H12_star.transpose()\n",
        "H22_star = D.transpose()@Pstar@D\n",
        "H23_star = D.transpose()@Pstar@A\n",
        "H31_star = H13_star.transpose()\n",
        "H32_star = H23_star.transpose()\n",
        "H33_star = A.transpose()@Pstar@A\n",
        "H1_star = np.concatenate((H11_star,H12_star,H13_star), axis=1)\n",
        "H2_star = np.concatenate((H21_star,H22_star,H23_star), axis=1)\n",
        "H3_star = np.concatenate((H31_star,H32_star,H33_star), axis=1)\n",
        "Hstar = np.concatenate((H1_star,H2_star,H3_star), axis=0)\n",
        "###########\n",
        "\n",
        "### model-based method to computer the feedforward term\n",
        "Rbar = np.eye(4)\n",
        "#P = np.array([[1.0]])\n",
        "P = 2*matrix(Rbar)\n",
        "q = matrix([[0.0, 0.0, 0.0, 0.0]])\n",
        "G = matrix(B)\n",
        "h = matrix(-D)\n",
        "\n",
        "M=np.array([[1.0,0,0,0], \n",
        "                     [0,1,0,0],\n",
        "                     [0,0,1,0],\n",
        "                     [0,0,0,1],\n",
        "                     [-1,0,0,0],\n",
        "                     [0,-1,0,0],\n",
        "                     [0,0,-1,0],\n",
        "                     [0,0,0,-1]])\n",
        "M = matrix(M)\n",
        "N = matrix(np.array([[7.5],\n",
        "                     [420],\n",
        "                     [600],\n",
        "                     [60],\n",
        "                     [-7.0],\n",
        "                     [-350],\n",
        "                     [-370],\n",
        "                     [0]]))\n",
        "#sol = solvers.qp(P,q,None,None,G,h)\n",
        "M = matrix(M)\n",
        "sol = solvers.qp(P,q,M,N,G,h)\n",
        "Ustar = np.array(sol['x']) "
      ],
      "execution_count": 4,
      "outputs": [
        {
          "output_type": "stream",
          "text": [
            "     pcost       dcost       gap    pres   dres\n",
            " 0:  9.8315e+04  2.2170e+05  4e+05  7e-01  8e-14\n",
            " 1:  3.1174e+05  4.2126e+05  2e+05  2e-01  1e-11\n",
            " 2:  4.8708e+05  4.7432e+05  2e+04  8e-03  2e-12\n",
            " 3:  4.8406e+05  4.8349e+05  8e+02  2e-04  3e-12\n",
            " 4:  4.8389e+05  4.8387e+05  2e+01  2e-06  4e-12\n",
            " 5:  4.8388e+05  4.8388e+05  2e-01  2e-08  2e-12\n",
            "Optimal solution found.\n"
          ],
          "name": "stdout"
        }
      ]
    },
    {
      "cell_type": "code",
      "metadata": {
        "id": "bgQLyUpnATT3"
      },
      "source": [
        "# Simulation\n",
        "time_max = 30\n",
        "memory_size = time_max\n",
        "memory_counter = 0\n",
        "memory = np.zeros((memory_size,8))\n",
        "\n",
        "## variance of the exploration noise\n",
        "sigma = 0.1\n",
        "x_init = np.array([0,0.5])\n",
        "x = x_init[:, np.newaxis]\n",
        "for i in range(time_max):\n",
        "    step = 0\n",
        "    noise = np.random.normal(np.array([0, 0, 0, 0]), np.array([sigma, sigma, sigma, sigma]))[:, np.newaxis]\n",
        "    ## initial controller\n",
        "    u = 0.85*Ustar + noise\n",
        "    x_ = env(x, u)\n",
        "    store_transition(x, u, x_)\n",
        "    x = x_\n",
        "    step += 1\n",
        "\n",
        "x_traj_0 = memory[:, 0]\n",
        "x_traj_1 = memory[:, 1]\n",
        "u_traj = memory[:, 2:6].transpose()"
      ],
      "execution_count": 5,
      "outputs": []
    },
    {
      "cell_type": "markdown",
      "metadata": {
        "id": "RTJayRaDEphp"
      },
      "source": [
        "Off-policy learning"
      ]
    },
    {
      "cell_type": "code",
      "metadata": {
        "colab": {
          "base_uri": "https://localhost:8080/"
        },
        "id": "aU2F0WTTEoTT",
        "outputId": "2404d597-0661-4d9b-9052-a5e33ae5341d"
      },
      "source": [
        "data_transition = memory[0,:][np.newaxis, :]\n",
        "x = data_transition[:, :2]\n",
        "u = data_transition[:, 2:6]\n",
        "x_ = data_transition[:, -2:]\n",
        "\n",
        "## vectorize operator for a matrix\n",
        "temp1 = np.kron(np.hstack((u,np.eye(1),x)), np.hstack((u,np.eye(1),x)))\n",
        "# vecv operation\n",
        "a = np.arange(49).reshape(7, 7)\n",
        "index_vecv = np.triu_indices(7)\n",
        "temp2 = a[index_vecv]\n",
        "temp3 = temp1[:,temp2]\n",
        "def vecv(x, v, u):\n",
        "    kron_product = np.kron(np.hstack((u,v,x)), np.hstack((u,v,x)))\n",
        "    temp2 = a[index_vecv]\n",
        "    result = kron_product[:,temp2]\n",
        "    return result\n",
        "result = vecv(x, np.eye(1), u)\n",
        "\n",
        "## algorithm begins here\n",
        "iter_max = 40\n",
        "size_XY = time_max\n",
        "size_batch = 1\n",
        "size_memory = memory.shape[0]\n",
        "\n",
        "H = np.zeros((7,7))\n",
        "H11 = np.zeros((4,4))\n",
        "H13 = np.zeros((4,2))\n",
        "H33 = np.zeros((2,2))\n",
        "H32 = np.zeros((2,1))\n",
        "AP_jB_data_traj = np.zeros((iter_max, 2, 4))\n",
        "AP_jD_data_traj = np.zeros((iter_max, 2, 1))\n",
        "errorH = np.zeros(iter_max)\n",
        "errorK = np.zeros(iter_max)\n",
        "for iter in range(iter_max):\n",
        "    X = np.zeros((size_XY,  temp2.shape[0]))\n",
        "    Y = np.zeros((size_XY,  1))\n",
        "    AP_jB = H13.transpose()\n",
        "    AP_jD = H32\n",
        "    AP_jB_data_traj[iter, :, :] = AP_jB\n",
        "    AP_jD_data_traj[iter, :, :] = AP_jD\n",
        "    \n",
        "    for i in range(size_XY):\n",
        "        data_selected = memory[i, :][np.newaxis, :]\n",
        "        x = data_selected[:, :2].transpose()\n",
        "        u = data_selected[:, 2:6].transpose()\n",
        "        x_ = data_selected[:, -2:].transpose()\n",
        "        X[i, :] = vecv(x.transpose(), np.eye(1), u.transpose()) # psi\n",
        "        phi = x_.transpose()@(H33 - H13.transpose()@scipy.linalg.inv((R+H11))@H13)@x_\n",
        "        Y[i, :] = x_.transpose()@ Q @x_ + phi\n",
        "        \n",
        "    lstsq_result = np.linalg.lstsq(X, Y, rcond=None)\n",
        "    pp = lstsq_result[0]\n",
        "    res = lstsq_result[1]\n",
        "    \n",
        "    temp5 = np.zeros((7,7))\n",
        "    l = 0\n",
        "    for m in range(7):\n",
        "        for n in range(m, 7):\n",
        "            temp5[m, n] = pp[l]\n",
        "            l = l+1\n",
        "    \n",
        "    H = (temp5 + temp5.transpose())/2.0\n",
        "    err_H = np.linalg.norm(H-Hstar)\n",
        "    errorH[iter] = err_H\n",
        "\n",
        "    H33 = H[5:, 5:]\n",
        "    H11 = H[:4, :4]\n",
        "    H13 = H[:4, 5:]\n",
        "    H32 = H[5:, 4][:, np.newaxis]\n",
        "    K = scipy.linalg.inv((R+H11))@H13\n",
        "    \n",
        "    err_K = np.linalg.norm(K-Kstar)\n",
        "    errorK[iter] = err_K\n",
        "    \n",
        "    if (err_H < 1e-2):\n",
        "        break\n",
        "        \n",
        "APB = AP_jB \n",
        "APD = AP_jD        \n",
        "U_dag = np.linalg.lstsq(H13.transpose(), -H32, rcond=None)[0]\n",
        "G = matrix(APB)\n",
        "h = matrix(-APD)\n",
        "\n",
        "M=np.array([[1.0,0,0,0], \n",
        "             [0,1,0,0],\n",
        "             [0,0,1,0],\n",
        "             [0,0,0,1],\n",
        "             [-1,0,0,0],\n",
        "             [0,-1,0,0],\n",
        "             [0,0,-1,0],\n",
        "             [0,0,0,-1]])\n",
        "M = matrix(M)\n",
        "N = matrix(np.array([[7.5],\n",
        "                     [420],\n",
        "                     [600],\n",
        "                     [60],\n",
        "                     [-7.0],\n",
        "                     [-350],\n",
        "                     [-370],\n",
        "                     [0]]))\n",
        "#sol = solvers.qp(P,q,None,None,G,h)\n",
        "M = matrix(M)\n",
        "sol = solvers.qp(P,q,M,N,G,h)\n",
        "Udag = np.array(sol['x'])"
      ],
      "execution_count": 6,
      "outputs": [
        {
          "output_type": "stream",
          "text": [
            "     pcost       dcost       gap    pres   dres\n",
            " 0:  9.8315e+04  2.2170e+05  4e+05  7e-01  0e+00\n",
            " 1:  3.1174e+05  4.2126e+05  2e+05  2e-01  6e-11\n",
            " 2:  4.8708e+05  4.7432e+05  2e+04  8e-03  2e-11\n",
            " 3:  4.8406e+05  4.8349e+05  8e+02  2e-04  8e-11\n",
            " 4:  4.8389e+05  4.8387e+05  2e+01  2e-06  8e-11\n",
            " 5:  4.8388e+05  4.8388e+05  2e-01  2e-08  9e-12\n",
            "Optimal solution found.\n"
          ],
          "name": "stdout"
        }
      ]
    },
    {
      "cell_type": "code",
      "metadata": {
        "id": "3fv44GiQAaU_"
      },
      "source": [
        "time_simulation_adp = 50\n",
        "x_traj_after_learning = np.zeros((2, time_simulation_adp))\n",
        "u_traj_after_learning = np.zeros((4, time_simulation_adp))\n",
        "#x = np.random.normal(np.array([0.5, 0.5]), np.array([0.0, 0.0]))[:, np.newaxis]\n",
        "for i in range(time_simulation_adp):\n",
        "#    u = -K @ x + Udag\n",
        "    x = x_\n",
        "    u = -K @ x + Udag\n",
        "    x_ = env(x, u)\n",
        "    x_traj_after_learning[:, i] = x_.reshape((2))\n",
        "    u_traj_after_learning[:, i] = u.reshape((4))\n",
        "    \n",
        "############# "
      ],
      "execution_count": 7,
      "outputs": []
    },
    {
      "cell_type": "code",
      "metadata": {
        "id": "nIMTHKSRAilk"
      },
      "source": [
        "##plots \n",
        "fontsize_xylabel = 18\n",
        "fontsize_ticks = 18\n",
        "fontsize_legend = 16\n",
        "linewidth=2\n",
        "markersize=4"
      ],
      "execution_count": 8,
      "outputs": []
    },
    {
      "cell_type": "markdown",
      "metadata": {
        "id": "qweFM8gLFj_T"
      },
      "source": [
        "Plots for state trajectory"
      ]
    },
    {
      "cell_type": "code",
      "metadata": {
        "colab": {
          "base_uri": "https://localhost:8080/",
          "height": 641
        },
        "id": "n2g2WirCFGo-",
        "outputId": "35b7c378-7ecb-499f-ea6b-090a0e1e3e2f"
      },
      "source": [
        "x_traj_0_whole = np.concatenate((x_traj_0[:, np.newaxis], x_traj_after_learning[0,:][:, np.newaxis]), axis=0)\n",
        "x_traj_1_whole = np.concatenate((x_traj_1[:, np.newaxis], x_traj_after_learning[1,:][:, np.newaxis]), axis=0)\n",
        "plt.figure(0)\n",
        "plt.title('state trajectory')\n",
        "plt.plot(x_traj_0_whole, linestyle='-', linewidth=linewidth, color='blue', label=r'${x}_1$')\n",
        "#plt.plot(x_traj_1_whole, linestyle='-.', linewidth=linewidth, color='red', label=r'${x}_2$')\n",
        "plt.xlabel('sampling instant', fontsize=fontsize_xylabel)\n",
        "plt.tick_params(labelsize=fontsize_ticks)\n",
        "plt.legend(fontsize=fontsize_legend, loc=0, ncol=1)\n",
        "plt.annotate(\n",
        "        'controllers \\n update', ha='center', fontsize=fontsize_xylabel,\n",
        "        xy=(time_max, 0.007), arrowprops=dict(arrowstyle='->'), xytext=(time_max+20, 0.007))\n",
        "lgd = pylab.legend(fontsize=fontsize_legend,loc=3, mode=\"expand\", bbox_to_anchor=(0., 1.02, 1., .102), \n",
        "                   ncol=4, borderaxespad=0.)\n",
        "art = []\n",
        "art.append(lgd)\n",
        "#pylab.savefig(\"VI_x_traj.png\", additional_artists=art, bbox_inches=\"tight\",dpi=200)\n",
        "\n",
        "plt.figure(1)\n",
        "plt.title('state trajectory')\n",
        "#plt.plot(x_traj_0_whole, linestyle='-', linewidth=linewidth, color='blue', label=r'${x}_1$')\n",
        "plt.plot(x_traj_1_whole, linestyle='-.', linewidth=linewidth, color='red', label=r'${x}_2$')\n",
        "plt.xlabel('sampling instant', fontsize=fontsize_xylabel)\n",
        "plt.tick_params(labelsize=fontsize_ticks)\n",
        "plt.legend(fontsize=fontsize_legend, loc=0, ncol=1)\n",
        "plt.annotate(\n",
        "        'controllers \\n update', ha='center', fontsize=fontsize_xylabel,\n",
        "        xy=(time_max, -0.3), arrowprops=dict(arrowstyle='->'), xytext=(time_max+20, -0.3))\n",
        "lgd = pylab.legend(fontsize=fontsize_legend,loc=3, mode=\"expand\", bbox_to_anchor=(0., 1.02, 1., .102), \n",
        "                   ncol=4, borderaxespad=0.)\n",
        "art = []\n",
        "art.append(lgd)"
      ],
      "execution_count": 15,
      "outputs": [
        {
          "output_type": "display_data",
          "data": {
            "image/png": "[encoded data removed]",
            "text/plain": [
              "<Figure size 432x288 with 1 Axes>"
            ]
          },
          "metadata": {
            "tags": [],
            "needs_background": "light"
          }
        },
        {
          "output_type": "display_data",
          "data": {
            "image/png": "[encoded data removed]",
            "text/plain": [
              "<Figure size 432x288 with 1 Axes>"
            ]
          },
          "metadata": {
            "tags": [],
            "needs_background": "light"
          }
        }
      ]
    },
    {
      "cell_type": "markdown",
      "metadata": {
        "id": "uGR6FpKGFfrY"
      },
      "source": [
        "Plots for inputs trajectory"
      ]
    },
    {
      "cell_type": "code",
      "metadata": {
        "colab": {
          "base_uri": "https://localhost:8080/",
          "height": 312
        },
        "id": "6dLhgQ6nAkYK",
        "outputId": "392ed34f-1c5f-4028-f9a4-b61c94f5cafe"
      },
      "source": [
        "u_traj_whole = np.concatenate((u_traj, u_traj_after_learning), axis=1)\n",
        "u_traj_whole_0 = u_traj_whole[0,:]\n",
        "u_traj_whole_1 = u_traj_whole[1,:]\n",
        "u_traj_whole_2 = u_traj_whole[2,:]\n",
        "u_traj_whole_3 = u_traj_whole[3,:]\n",
        "\n",
        "plt.figure(4)\n",
        "plt.subplot(411)\n",
        "plt.tick_params(\n",
        "    axis='x',          # changes apply to the x-axis\n",
        "    which='both',      # both major and minor ticks are affected\n",
        "    bottom=False,      # ticks along the bottom edge are off\n",
        "    top=False,         # ticks along the top edge are off\n",
        "    labelbottom=False) # labels along the bottom edge are off\n",
        "#plt.ylabel(r'${u}_1$')\n",
        "plt.tick_params(labelsize=fontsize_ticks)\n",
        "plt.plot(u_traj_whole_0, linestyle='-', linewidth=linewidth, color='blue', label=r'${u}_1$')\n",
        "#plt.plot(u_traj_whole_3, linestyle=':', linewidth=linewidth, color='magenta', label=r'${u}_4$')\n",
        "plt.legend(fontsize=fontsize_legend, loc=4, ncol=1)\n",
        "#plt.annotate(\n",
        "#        'controllers \\n update', ha='center', fontsize=fontsize_xylabel,\n",
        "#        xy=(time_max, 48), arrowprops=dict(arrowstyle='->'), xytext=(time_max-20, 20))\n",
        "plt.subplot(412)\n",
        "plt.tick_params(\n",
        "    axis='x',          # changes apply to the x-axis\n",
        "    which='both',      # both major and minor ticks are affected\n",
        "    bottom=False,      # ticks along the bottom edge are off\n",
        "    top=False,         # ticks along the top edge are off\n",
        "    labelbottom=False) # labels along the bottom edge are off\n",
        "plt.tick_params(labelsize=fontsize_ticks)\n",
        "plt.plot(u_traj_whole_1, linestyle='-.', linewidth=linewidth, color='red', label=r'${u}_2$')\n",
        "#plt.plot(u_traj_whole_2, linestyle='--', linewidth=linewidth, color='green', label=r'${u}_3$')\n",
        "plt.legend(fontsize=fontsize_legend, loc=4, ncol=1)\n",
        "plt.subplot(413)\n",
        "plt.tick_params(\n",
        "    axis='x',          # changes apply to the x-axis\n",
        "    which='both',      # both major and minor ticks are affected\n",
        "    bottom=False,      # ticks along the bottom edge are off\n",
        "    top=False,         # ticks along the top edge are off\n",
        "    labelbottom=False) # labels along the bottom edge are off\n",
        "plt.tick_params(labelsize=fontsize_ticks)\n",
        "plt.plot(u_traj_whole_2, linestyle='--', linewidth=linewidth, color='green', label=r'${u}_3$')\n",
        "plt.legend(fontsize=fontsize_legend, loc=4, ncol=1)\n",
        "plt.subplot(414)\n",
        "plt.plot(u_traj_whole_3, linestyle=':', linewidth=linewidth, color='magenta', label=r'${u}_4$')\n",
        "plt.tick_params(labelsize=fontsize_ticks)\n",
        "plt.legend(fontsize=fontsize_legend, loc=4, ncol=1)\n",
        "plt.xlabel('sampling instant', fontsize=fontsize_xylabel)\n",
        "# pylab.savefig(\"VI_u_traj_separated.png\", additional_artists=art, bbox_inches=\"tight\",dpi=200)"
      ],
      "execution_count": 17,
      "outputs": [
        {
          "output_type": "execute_result",
          "data": {
            "text/plain": [
              "Text(0.5, 0, 'sampling instant')"
            ]
          },
          "metadata": {
            "tags": []
          },
          "execution_count": 17
        },
        {
          "output_type": "display_data",
          "data": {
            "image/png": "[encoded data removed]",
            "text/plain": [
              "<Figure size 432x288 with 4 Axes>"
            ]
          },
          "metadata": {
            "tags": [],
            "needs_background": "light"
          }
        }
      ]
    },
    {
      "cell_type": "markdown",
      "metadata": {
        "id": "WStWZ8xAFluZ"
      },
      "source": [
        "Plots to show the convergence to the theoretical optimal values"
      ]
    },
    {
      "cell_type": "code",
      "metadata": {
        "colab": {
          "base_uri": "https://localhost:8080/",
          "height": 323
        },
        "id": "I_K6pO5TAqTf",
        "outputId": "032936f0-505e-4e82-fde2-f30c46f56186"
      },
      "source": [
        "try:\n",
        "    errorH = np.trim_zeros(errorH)\n",
        "except:\n",
        "    pass\n",
        "\n",
        "try:\n",
        "    errorK = np.trim_zeros(errorK)\n",
        "except:\n",
        "    pass\n",
        "\n",
        "plt.figure(5)\n",
        "plt.subplot(211)\n",
        "plt.ticklabel_format(style='sci', axis='y', scilimits=(0,0))\n",
        "plt.plot(errorH,'bs--',linewidth=linewidth, label=r'$|H_{j}-H^{*}|$', markersize=markersize)\n",
        "plt.tick_params(\n",
        "    axis='x',          # changes apply to the x-axis\n",
        "    which='both',      # both major and minor ticks are affected\n",
        "    bottom=False,      # ticks along the bottom edge are off\n",
        "    top=False,         # ticks along the top edge are off\n",
        "    labelbottom=False) # labels along the bottom edge are off\n",
        "plt.legend(fontsize=fontsize_legend, loc=0, ncol=1)\n",
        "plt.subplot(212)\n",
        "plt.ticklabel_format(style='sci', axis='y', scilimits=(0,0))\n",
        "plt.plot(errorK,'bs--',linewidth=linewidth, label=r'$|K_{j}-K^{*}|$', markersize=markersize)\n",
        "plt.xlabel('iteration', fontsize=fontsize_xylabel)\n",
        "plt.tick_params(labelsize=fontsize_ticks)\n",
        "plt.legend(fontsize=fontsize_legend, loc=0, ncol=1)\n",
        "# pylab.savefig(\"VI_HK_conv.png\", additional_artists=art, bbox_inches=\"tight\",dpi=200)"
      ],
      "execution_count": 18,
      "outputs": [
        {
          "output_type": "execute_result",
          "data": {
            "text/plain": [
              "<matplotlib.legend.Legend at 0x7fd19d138940>"
            ]
          },
          "metadata": {
            "tags": []
          },
          "execution_count": 18
        },
        {
          "output_type": "display_data",
          "data": {
            "image/png": "[encoded data removed]",
            "text/plain": [
              "<Figure size 432x288 with 2 Axes>"
            ]
          },
          "metadata": {
            "tags": [],
            "needs_background": "light"
          }
        }
      ]
    }
  ]
}